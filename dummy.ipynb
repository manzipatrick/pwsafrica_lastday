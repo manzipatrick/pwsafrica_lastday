{
 "cells": [
  {
   "cell_type": "code",
   "execution_count": null,
   "metadata": {},
   "outputs": [],
   "source": [
    "def change_sign(value):\n",
    "    return value*-1\n",
    "\n",
    "def addition(value):\n",
    "    return int(value) + 1\n",
    "def substraction(value):\n",
    "    return value-1\n",
    "def greater(dpointer):\n",
    "    return dpointer+1\n",
    "def less(dpointer):\n",
    "    return dpointer-1\n",
    "def point(dpointer,data):\n",
    "    return data[dpointer]\n",
    "def comma(value):\n",
    "    string = str(value)\n",
    "    return string\n",
    "def questionmark(dpointer,data,x):\n",
    "    data[dpointer]= x\n",
    "    return data[dpointer]\n",
    "def openBracket(dpointer,data):\n",
    "    mylist=[]\n",
    "    if data[dpointer] !=0:\n",
    "        mylist.append(dpointer)\n",
    "        \n",
    "    \n",
    "    \n",
    "\n",
    "\n",
    "operations={ 'data':{'~':change_sign, '+':addition, '-':substraction, ',':comma},\n",
    "            'pointer':{'>':greater, '<':less, '.':point, '?':questionmark}\n",
    "              }\n",
    "\n",
    "\n",
    "data=[0]*10\n",
    "symbols='+-><'\n",
    "dpointer=0\n",
    "\n",
    "program=input('Enter your program : ')\n",
    "\n",
    "for mychar in range(len(program)):\n",
    "    if program[mychar]=='~':\n",
    "        data[dpointer]=operations['data'][program[mychar]](data[dpointer])\n",
    "    elif program[mychar]=='+':\n",
    "        data[dpointer]=operations['data'][program[mychar]](data[dpointer])\n",
    "    elif program[mychar]=='-':\n",
    "        data[dpointer]=operations['data'][program[mychar]](data[dpointer])\n",
    "    elif program[mychar]==',':\n",
    "        data[dpointer]=operations['data'][program[mychar]](data[dpointer])\n",
    "    elif program[mychar]=='>':\n",
    "        dpointer=operations['pointer'][program[mychar]](dpointer)\n",
    "    elif program[mychar]=='<':\n",
    "        dpointer=operations['pointer'][program[mychar]](dpointer)\n",
    "    elif program[mychar]=='.':\n",
    "        data[dpointer]=operations['pointer'][program[mychar]](dpointer,data)\n",
    "    elif program[mychar]=='?':\n",
    "        x=int(input('enter value'))\n",
    "        operations['pointer'][program[mychar]](dpointer,data,x)\n",
    "    \n",
    "    \n",
    "       \n",
    "    \n",
    "     \n",
    "        \n",
    "    print(data)"
   ]
  },
  {
   "cell_type": "code",
   "execution_count": null,
   "metadata": {},
   "outputs": [],
   "source": []
  },
  {
   "cell_type": "code",
   "execution_count": 11,
   "metadata": {},
   "outputs": [
    {
     "name": "stdout",
     "output_type": "stream",
     "text": [
      "\"2\"\n"
     ]
    }
   ],
   "source": [
    "value = 2\n",
    "word = '\"' + str(value) + '\"'\n",
    "print(word)"
   ]
  },
  {
   "cell_type": "code",
   "execution_count": null,
   "metadata": {},
   "outputs": [],
   "source": [
    ">>++,\n"
   ]
  }
 ],
 "metadata": {
  "kernelspec": {
   "display_name": "Python 3",
   "language": "python",
   "name": "python3"
  },
  "language_info": {
   "codemirror_mode": {
    "name": "ipython",
    "version": 3
   },
   "file_extension": ".py",
   "mimetype": "text/x-python",
   "name": "python",
   "nbconvert_exporter": "python",
   "pygments_lexer": "ipython3",
   "version": "3.7.3"
  }
 },
 "nbformat": 4,
 "nbformat_minor": 2
}
